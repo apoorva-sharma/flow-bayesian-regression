{
 "cells": [
  {
   "cell_type": "code",
   "execution_count": null,
   "metadata": {},
   "outputs": [],
   "source": [
    "from model import Invicuna\n",
    "\n",
    "import matplotlib.pyplot as plt\n",
    "import tensorflow as tf\n",
    "from tensorflow.python import debug as tf_debug\n",
    "\n",
    "import numpy as np\n",
    "from viz import *\n",
    "\n",
    "%matplotlib inline\n",
    "%load_ext autoreload\n",
    "%autoreload 2"
   ]
  },
  {
   "cell_type": "markdown",
   "metadata": {},
   "source": [
    "`num_bijectors = 0` corresponds to indentity map for the bijector. Set to 4 or 6 to learn a more interesting flow."
   ]
  },
  {
   "cell_type": "code",
   "execution_count": null,
   "metadata": {},
   "outputs": [],
   "source": [
    "config = {'num_bijectors': 0,\n",
    "          'bijector': 'RealNVP',\n",
    "          'network_size': 64,\n",
    "          'use_batchnorm': False,\n",
    "          'y_dim': 2,\n",
    "          'batch_size': 20,\n",
    "          'data_horizon': 10,\n",
    "          'test_horizon': 10,\n",
    "          'learning_rate': 1e-3}"
   ]
  },
  {
   "cell_type": "code",
   "execution_count": null,
   "metadata": {},
   "outputs": [],
   "source": [
    "class gaussian_dataset:\n",
    "    def __init__(self,dim,aux_dim):\n",
    "        self.dim = dim\n",
    "        self.aux_dim = aux_dim\n",
    "    \n",
    "    def sample(self,n_funcs=20,n_samples=20,get_mean=False):\n",
    "        data = np.zeros((n_funcs,n_samples,self.dim + self.aux_dim))\n",
    "        mu_list = []\n",
    "        for i in range(n_funcs):\n",
    "            mu = 3.0*( np.random.rand(self.dim) > 0.5 ) - 1.5\n",
    "            mu_list.append(mu)\n",
    "            \n",
    "            for j in range(n_samples):\n",
    "                data[i,j,:self.dim] = mu + 0.5*np.random.randn(self.dim)\n",
    "                data[i,j,self.dim:] = np.random.randn(self.aux_dim)\n",
    "        if get_mean:\n",
    "            return mu_list,data\n",
    "        \n",
    "        return data"
   ]
  },
  {
   "cell_type": "code",
   "execution_count": null,
   "metadata": {},
   "outputs": [],
   "source": [
    "g1 = tf.Graph()\n",
    "sess1 = tf.Session(config=tf.ConfigProto(log_device_placement=True), graph=g1)"
   ]
  },
  {
   "cell_type": "code",
   "execution_count": null,
   "metadata": {},
   "outputs": [],
   "source": [
    "model = Invicuna(sess1, config)\n",
    "model.construct_model()"
   ]
  },
  {
   "cell_type": "code",
   "execution_count": null,
   "metadata": {},
   "outputs": [],
   "source": [
    "dataset = gaussian_dataset(2,0)"
   ]
  },
  {
   "cell_type": "code",
   "execution_count": null,
   "metadata": {},
   "outputs": [],
   "source": [
    "model.train(dataset,4000) "
   ]
  },
  {
   "cell_type": "code",
   "execution_count": null,
   "metadata": {},
   "outputs": [],
   "source": [
    "# generate conditioning data\n",
    "mu, context_x = dataset.sample(n_funcs=1,n_samples=50,get_mean=True)\n"
   ]
  },
  {
   "cell_type": "code",
   "execution_count": null,
   "metadata": {},
   "outputs": [],
   "source": [
    "prior_samples = dataset.sample(n_funcs=4, n_samples=500)\n",
    "for j in range(4):\n",
    "    plt.scatter(prior_samples[j,:,0], prior_samples[j,:,1], alpha=0.2)\n",
    "plt.savefig('uncond_dataset.pdf')"
   ]
  },
  {
   "cell_type": "code",
   "execution_count": null,
   "metadata": {},
   "outputs": [],
   "source": [
    "model.base.batch_shape"
   ]
  },
  {
   "cell_type": "code",
   "execution_count": null,
   "metadata": {},
   "outputs": [],
   "source": [
    "analytic_model = analytic_gaussian_posterior()"
   ]
  },
  {
   "cell_type": "code",
   "execution_count": null,
   "metadata": {},
   "outputs": [],
   "source": [
    "n_vals = [0,1,5,10]\n",
    "N = len(n_vals)\n",
    "\n",
    "#context_x = np.array([[[0.,1.5]]])\n",
    "\n",
    "fig = plt.figure(figsize=[5*N,5])\n",
    "for i,n in enumerate(n_vals):\n",
    "    plt.subplot(1,N,i+1)\n",
    "    plot_likelihood(mu,context_x[:,:n,:],model,x_range=[-3,3],y_range=[-3,3])\n",
    "    \n",
    "#     plt.subplot(N,2,2*i+2)\n",
    "#     plot_likelihood(mu,context_x[:,:n,:],analytic_model,x_range=[-2,5],y_range=[-2,5])\n",
    "\n",
    "plt.tight_layout()\n",
    "plt.savefig('gaussian_fitting_noflow.pdf')\n",
    "plt.show()"
   ]
  },
  {
   "cell_type": "code",
   "execution_count": null,
   "metadata": {},
   "outputs": [],
   "source": []
  },
  {
   "cell_type": "code",
   "execution_count": null,
   "metadata": {},
   "outputs": [],
   "source": [
    "model.get_likelihood(context_x,context_x)"
   ]
  },
  {
   "cell_type": "code",
   "execution_count": null,
   "metadata": {},
   "outputs": [],
   "source": [
    "np.transpose(context_x,[1,0,2]).shape"
   ]
  },
  {
   "cell_type": "code",
   "execution_count": null,
   "metadata": {},
   "outputs": [],
   "source": [
    "model.get_likelihood"
   ]
  }
 ],
 "metadata": {
  "kernelspec": {
   "display_name": "Python 3",
   "language": "python",
   "name": "python3"
  },
  "language_info": {
   "codemirror_mode": {
    "name": "ipython",
    "version": 3
   },
   "file_extension": ".py",
   "mimetype": "text/x-python",
   "name": "python",
   "nbconvert_exporter": "python",
   "pygments_lexer": "ipython3",
   "version": "3.6.4"
  }
 },
 "nbformat": 4,
 "nbformat_minor": 2
}
