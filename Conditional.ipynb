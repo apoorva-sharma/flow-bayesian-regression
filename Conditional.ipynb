{
 "cells": [
  {
   "cell_type": "code",
   "execution_count": null,
   "metadata": {},
   "outputs": [],
   "source": [
    "from model import CondInvicuna\n",
    "\n",
    "import matplotlib.pyplot as plt\n",
    "import tensorflow as tf\n",
    "\n",
    "import numpy as np\n",
    "from viz import *\n",
    "\n",
    "%matplotlib inline\n",
    "%load_ext autoreload\n",
    "%autoreload 2"
   ]
  },
  {
   "cell_type": "code",
   "execution_count": null,
   "metadata": {},
   "outputs": [],
   "source": [
    "config = {'num_bijectors': 6,\n",
    "          'bijector': 'RealNVP',\n",
    "          'network_size': 64,\n",
    "          'use_batchnorm': True,\n",
    "          'y_dim': 2,\n",
    "          'x_dim': 1,\n",
    "          'nn_layers': [64,64,32],\n",
    "          'activation': 'tanh',\n",
    "          'sigma_eps': 0.01,\n",
    "          'batch_size': 20,\n",
    "          'data_horizon': 2,\n",
    "          'test_horizon': 50,\n",
    "          'learning_rate': 1e-4}"
   ]
  },
  {
   "cell_type": "code",
   "execution_count": null,
   "metadata": {},
   "outputs": [],
   "source": [
    "class MultistepDataset:\n",
    "    def __init__(self, aux_dim=0, noise_var=0.001, rng=None):\n",
    "        self.step_min = -3.\n",
    "        self.step_max = 3.\n",
    "        self.num_steps = 3\n",
    "        self.x_range = [-5.,5.]\n",
    "        self.noise_std = np.sqrt( noise_var )\n",
    "        \n",
    "        self.x_dim = 1\n",
    "        self.aux_dim = aux_dim\n",
    "        self.y_dim = 1 + aux_dim\n",
    "            \n",
    "        self.np_random = rng\n",
    "        if rng is None:\n",
    "            self.np_random = np.random\n",
    "            \n",
    "    def sample(self, n_funcs, n_samples, return_lists=False):\n",
    "        x = np.zeros((n_funcs, n_samples, self.x_dim))\n",
    "        y = np.zeros((n_funcs, n_samples, self.y_dim))\n",
    "        \n",
    "        step_mat = np.zeros((n_funcs, self.num_steps))\n",
    "        \n",
    "        for i in range(n_funcs):\n",
    "            step_pts = self.step_min + self.np_random.rand(self.num_steps)* (self.step_max - self.step_min)\n",
    "            step_mat[i,:] = step_pts\n",
    "            \n",
    "            x_samp = self.x_range[0] + self.np_random.rand(n_samples)*(self.x_range[1] - self.x_range[0])\n",
    "            y_samp = self.multistep(x_samp, step_pts)\n",
    "\n",
    "            x[i,:,0] = x_samp\n",
    "            y[i,:,0] = y_samp\n",
    "            y[i,:,1:] = self.np_random.randn(n_samples, self.aux_dim)\n",
    "\n",
    "        if return_lists:\n",
    "            return x,y,step_mat\n",
    "\n",
    "        return x,y\n",
    "    \n",
    "    def multistep(self, x, step_pts):\n",
    "        x = x.reshape([1,-1])\n",
    "        step_pts = step_pts.reshape([-1,1])\n",
    "        y = 2.*np.logical_xor.reduce( x > step_pts, axis=0) - 1.\n",
    "        y += self.noise_std*self.np_random.randn(x.shape[1])\n",
    "        return y"
   ]
  },
  {
   "cell_type": "code",
   "execution_count": null,
   "metadata": {},
   "outputs": [],
   "source": [
    "g1 = tf.Graph()\n",
    "sess1 = tf.Session(config=tf.ConfigProto(log_device_placement=True), graph=g1)"
   ]
  },
  {
   "cell_type": "code",
   "execution_count": null,
   "metadata": {},
   "outputs": [],
   "source": [
    "model = CondInvicuna(sess1, config)\n",
    "model.construct_model()"
   ]
  },
  {
   "cell_type": "code",
   "execution_count": null,
   "metadata": {},
   "outputs": [],
   "source": [
    "dataset = MultistepDataset(1)"
   ]
  },
  {
   "cell_type": "code",
   "execution_count": null,
   "metadata": {},
   "outputs": [],
   "source": [
    "xx,yy = dataset.sample(10,100)\n",
    "for j in range(1):\n",
    "    plt.scatter(xx[j,:,0],yy[j,:,0])\n",
    "plt.savefig('cond_meta_sample.pdf')\n",
    "plt.show()"
   ]
  },
  {
   "cell_type": "code",
   "execution_count": null,
   "metadata": {},
   "outputs": [],
   "source": [
    "model.train(dataset,5000)"
   ]
  },
  {
   "cell_type": "code",
   "execution_count": null,
   "metadata": {},
   "outputs": [],
   "source": [
    "x_q = np.linspace(-5,5,50).reshape([1,-1,1])\n",
    "x_t,y_t = dataset.sample(1,50)\n",
    "\n",
    "n_samples = 10\n",
    "n_context = 4\n",
    "\n",
    "#print(x_t[:,:n_context,:].shape)\n",
    "# y_sample = model.gen_samples(x_t[:,:n_context,:],y_t[:,:n_context,:],x_q,n_samples)"
   ]
  },
  {
   "cell_type": "code",
   "execution_count": null,
   "metadata": {},
   "outputs": [],
   "source": [
    "xx = x_t.reshape([-1, 1])\n",
    "yy = y_t[:,:,0].reshape([-1,1])"
   ]
  },
  {
   "cell_type": "code",
   "execution_count": null,
   "metadata": {},
   "outputs": [],
   "source": [
    "plt.scatter(xx,yy)"
   ]
  },
  {
   "cell_type": "code",
   "execution_count": null,
   "metadata": {},
   "outputs": [],
   "source": [
    "for i in range(n_samples):\n",
    "    plt.plot(x_q[0,:,0],y_sample[i,0,:,0])\n",
    "plt.show()"
   ]
  },
  {
   "cell_type": "code",
   "execution_count": null,
   "metadata": {},
   "outputs": [],
   "source": [
    "plot_conditional_likelihood(model, x_t[:,:0,:],y_t[:,:0,:], num_aux=1)\n",
    "plt.savefig('conditional_prior_noflow.pdf')\n",
    "plt.show()"
   ]
  },
  {
   "cell_type": "code",
   "execution_count": null,
   "metadata": {},
   "outputs": [],
   "source": [
    "plot_conditional_likelihood(model, x_t[:,:50,:],y_t[:,:50,:], num_aux=1)\n",
    "plt.savefig('conditional_posterior_noflow.pdf')\n",
    "plt.show()"
   ]
  }
 ],
 "metadata": {
  "kernelspec": {
   "display_name": "Python 3",
   "language": "python",
   "name": "python3"
  },
  "language_info": {
   "codemirror_mode": {
    "name": "ipython",
    "version": 3
   },
   "file_extension": ".py",
   "mimetype": "text/x-python",
   "name": "python",
   "nbconvert_exporter": "python",
   "pygments_lexer": "ipython3",
   "version": "3.6.4"
  }
 },
 "nbformat": 4,
 "nbformat_minor": 2
}
