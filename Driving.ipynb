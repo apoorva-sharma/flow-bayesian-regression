{
 "cells": [
  {
   "cell_type": "markdown",
   "metadata": {},
   "source": [
    "# Testing on Driving Data"
   ]
  },
  {
   "cell_type": "code",
   "execution_count": null,
   "metadata": {},
   "outputs": [],
   "source": [
    "from dataset import PresampledDataset\n",
    "from model import *\n",
    "\n",
    "%load_ext autoreload\n",
    "%autoreload 2"
   ]
  },
  {
   "cell_type": "code",
   "execution_count": null,
   "metadata": {},
   "outputs": [],
   "source": [
    "import pandas as pd\n",
    "trajs = pd.read_pickle(\"data/trajectories_slim.pkl\")"
   ]
  },
  {
   "cell_type": "code",
   "execution_count": null,
   "metadata": {},
   "outputs": [],
   "source": [
    "# build traj dataset \n",
    "traj_mat = np.zeros((1106,33,8))\n",
    "traj_mat_p = np.zeros((1106,33,8))\n",
    "for i,label in enumerate(['x1', 'y1', 'xd1', 'yd1', 'x2', 'y2','xd2', 'yd2']):\n",
    "    itr = -1\n",
    "    for k,v in trajs[label].items():\n",
    "        if k[1] == 0:\n",
    "            itr += 1\n",
    "        if k[1] < 33:\n",
    "            traj_mat[itr,k[1],i] = v\n",
    "        if (not (k[1] == 0)) and k[1]<34:\n",
    "            traj_mat_p[itr,k[1]-1,i] = v\n",
    "\n",
    "#shuffle this data\n",
    "inds = np.random.choice(traj_mat.shape[0],traj_mat.shape[0])\n",
    "traj_mat = traj_mat[inds,:,:]\n",
    "traj_mat_p = traj_mat_p[inds,:,:]\n",
    "            \n",
    "N_train = 1000\n",
    "N_test = 100\n",
    "X = traj_mat[:1000,:,:]\n",
    "Y = traj_mat_p[:1000,:,:] #- X\n",
    "\n",
    "X_test = traj_mat[1000:1100,:,:]\n",
    "Y_test = traj_mat_p[1000:1100,:,:] #- X_test"
   ]
  },
  {
   "cell_type": "code",
   "execution_count": null,
   "metadata": {},
   "outputs": [],
   "source": [
    "dataset = PresampledDataset(X,Y)"
   ]
  },
  {
   "cell_type": "markdown",
   "metadata": {},
   "source": [
    "## Create conditional model and train it on the data"
   ]
  },
  {
   "cell_type": "code",
   "execution_count": null,
   "metadata": {},
   "outputs": [],
   "source": [
    "config = {'num_bijectors': 4,\n",
    "          'bijector': 'RealNVP',\n",
    "          'network_size': 64,\n",
    "          'use_batchnorm': True,\n",
    "          'y_dim': 8,\n",
    "          'x_dim': 8,\n",
    "          'nn_layers': [64,64,32],\n",
    "          'activation': 'tanh',\n",
    "          'sigma_eps': 1.0,\n",
    "          'batch_size': 50,\n",
    "          'data_horizon': 0,\n",
    "          'test_horizon': 10,\n",
    "          'learning_rate': 1e-3}"
   ]
  },
  {
   "cell_type": "code",
   "execution_count": null,
   "metadata": {},
   "outputs": [],
   "source": [
    "g1 = tf.Graph()\n",
    "sess1 = tf.Session(config=tf.ConfigProto(log_device_placement=True), graph=g1)"
   ]
  },
  {
   "cell_type": "code",
   "execution_count": null,
   "metadata": {},
   "outputs": [],
   "source": [
    "model = CondInvicuna(sess1, config)\n",
    "model.construct_model()"
   ]
  },
  {
   "cell_type": "code",
   "execution_count": null,
   "metadata": {},
   "outputs": [],
   "source": [
    "model.train(dataset, 5000)"
   ]
  },
  {
   "cell_type": "markdown",
   "metadata": {},
   "source": [
    "Evaluate test likelihood of prior"
   ]
  },
  {
   "cell_type": "code",
   "execution_count": null,
   "metadata": {},
   "outputs": [],
   "source": [
    "np.mean(np.log(model.get_likelihood(X_test[:50,0:0,:],Y_test[:50,0:0,:],X_test[:50,:,:],Y_test[:50,:,:])))"
   ]
  },
  {
   "cell_type": "code",
   "execution_count": null,
   "metadata": {},
   "outputs": [],
   "source": []
  }
 ],
 "metadata": {
  "kernelspec": {
   "display_name": "Python 3",
   "language": "python",
   "name": "python3"
  },
  "language_info": {
   "codemirror_mode": {
    "name": "ipython",
    "version": 3
   },
   "file_extension": ".py",
   "mimetype": "text/x-python",
   "name": "python",
   "nbconvert_exporter": "python",
   "pygments_lexer": "ipython3",
   "version": "3.6.4"
  }
 },
 "nbformat": 4,
 "nbformat_minor": 2
}
