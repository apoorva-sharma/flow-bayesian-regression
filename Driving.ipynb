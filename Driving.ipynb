{
 "cells": [
  {
   "cell_type": "markdown",
   "metadata": {},
   "source": [
    "# Testing on Driving Data"
   ]
  },
  {
   "cell_type": "code",
   "execution_count": 1,
   "metadata": {},
   "outputs": [],
   "source": [
    "from dataset import PresampledDataset\n",
    "from model import *\n",
    "\n",
    "%load_ext autoreload\n",
    "%autoreload 2"
   ]
  },
  {
   "cell_type": "code",
   "execution_count": 2,
   "metadata": {},
   "outputs": [],
   "source": [
    "import pandas as pd\n",
    "trajs = pd.read_pickle(\"data/trajectories_slim.pkl\")"
   ]
  },
  {
   "cell_type": "code",
   "execution_count": 3,
   "metadata": {},
   "outputs": [],
   "source": [
    "# build traj dataset \n",
    "traj_mat = np.zeros((1106,33,8))\n",
    "traj_mat_p = np.zeros((1106,33,8))\n",
    "for i,label in enumerate(['x1', 'y1', 'xd1', 'yd1', 'x2', 'y2','xd2', 'yd2']):\n",
    "    itr = -1\n",
    "    for k,v in trajs[label].items():\n",
    "        if k[1] == 0:\n",
    "            itr += 1\n",
    "        if k[1] < 33:\n",
    "            traj_mat[itr,k[1],i] = v\n",
    "        if (not (k[1] == 0)) and k[1]<34:\n",
    "            traj_mat_p[itr,k[1]-1,i] = v\n",
    "\n",
    "#shuffle this data\n",
    "inds = np.random.choice(traj_mat.shape[0],traj_mat.shape[0])\n",
    "traj_mat = traj_mat[inds,:,:]\n",
    "traj_mat_p = traj_mat_p[inds,:,:]\n",
    "            \n",
    "N_train = 1000\n",
    "N_test = 100\n",
    "X = traj_mat[:1000,:,:]\n",
    "Y = traj_mat_p[:1000,:,:] #- X\n",
    "\n",
    "X_test = traj_mat[1000:1100,:,:]\n",
    "Y_test = traj_mat_p[1000:1100,:,:] #- X_test"
   ]
  },
  {
   "cell_type": "code",
   "execution_count": 4,
   "metadata": {},
   "outputs": [],
   "source": [
    "dataset = PresampledDataset(X,Y)"
   ]
  },
  {
   "cell_type": "markdown",
   "metadata": {},
   "source": [
    "## Create conditional model and train it on the data"
   ]
  },
  {
   "cell_type": "code",
   "execution_count": 49,
   "metadata": {},
   "outputs": [],
   "source": [
    "config = {'num_bijectors': 4,\n",
    "          'bijector': 'RealNVP',\n",
    "          'network_size': 64,\n",
    "          'use_batchnorm': True,\n",
    "          'y_dim': 8,\n",
    "          'x_dim': 8,\n",
    "          'nn_layers': [64,64,32],\n",
    "          'activation': 'tanh',\n",
    "          'sigma_eps': 1.0,\n",
    "          'batch_size': 50,\n",
    "          'data_horizon': 0,\n",
    "          'test_horizon': 10,\n",
    "          'learning_rate': 1e-3}"
   ]
  },
  {
   "cell_type": "code",
   "execution_count": 50,
   "metadata": {},
   "outputs": [],
   "source": [
    "g1 = tf.Graph()\n",
    "sess1 = tf.Session(config=tf.ConfigProto(log_device_placement=True), graph=g1)"
   ]
  },
  {
   "cell_type": "code",
   "execution_count": 51,
   "metadata": {},
   "outputs": [],
   "source": [
    "model = CondInvicuna(sess1, config)\n",
    "model.construct_model()"
   ]
  },
  {
   "cell_type": "code",
   "execution_count": 54,
   "metadata": {},
   "outputs": [
    {
     "name": "stdout",
     "output_type": "stream",
     "text": [
      "itr: 0 ; loss: 65.47651\n",
      "itr: 20 ; loss: 19.13189\n",
      "itr: 40 ; loss: 15.537289\n",
      "itr: 60 ; loss: 12.78259\n",
      "itr: 80 ; loss: 12.883328\n",
      "itr: 100 ; loss: 11.524578\n",
      "itr: 120 ; loss: 12.472013\n",
      "itr: 140 ; loss: 12.037472\n",
      "itr: 160 ; loss: 11.298044\n",
      "itr: 180 ; loss: 10.817397\n",
      "itr: 200 ; loss: 11.758363\n",
      "itr: 220 ; loss: 11.222841\n",
      "itr: 240 ; loss: 10.3872595\n",
      "itr: 260 ; loss: 9.958813\n",
      "itr: 280 ; loss: 9.884608\n",
      "itr: 300 ; loss: 10.183756\n",
      "itr: 320 ; loss: 10.767787\n",
      "itr: 340 ; loss: 10.371936\n",
      "itr: 360 ; loss: 10.0637245\n",
      "itr: 380 ; loss: 10.97841\n",
      "itr: 400 ; loss: 8.736973\n",
      "itr: 420 ; loss: 8.3255825\n",
      "itr: 440 ; loss: 9.322081\n",
      "itr: 460 ; loss: 8.5352955\n",
      "itr: 480 ; loss: 7.855633\n",
      "itr: 500 ; loss: 8.23634\n",
      "itr: 520 ; loss: 7.2971087\n",
      "itr: 540 ; loss: 7.9938693\n",
      "itr: 560 ; loss: 8.322334\n",
      "itr: 580 ; loss: 7.587249\n",
      "itr: 600 ; loss: 7.7521315\n",
      "itr: 620 ; loss: 7.843273\n",
      "itr: 640 ; loss: 7.767425\n",
      "itr: 660 ; loss: 7.9485383\n",
      "itr: 680 ; loss: 7.898918\n",
      "itr: 700 ; loss: 6.9464436\n",
      "itr: 720 ; loss: 7.185412\n",
      "itr: 740 ; loss: 7.086801\n",
      "itr: 760 ; loss: 7.6186237\n",
      "itr: 780 ; loss: 6.610784\n",
      "itr: 800 ; loss: 7.474066\n",
      "itr: 820 ; loss: 9.13318\n",
      "itr: 840 ; loss: 8.856752\n",
      "itr: 860 ; loss: 6.963789\n",
      "itr: 880 ; loss: 6.676628\n",
      "itr: 900 ; loss: 7.0520186\n",
      "itr: 920 ; loss: 7.2005444\n",
      "itr: 940 ; loss: 6.8678646\n",
      "itr: 960 ; loss: 5.7901545\n",
      "itr: 980 ; loss: 6.980292\n",
      "itr: 1000 ; loss: 6.6315975\n",
      "itr: 1020 ; loss: 6.790306\n",
      "itr: 1040 ; loss: 7.046487\n",
      "itr: 1060 ; loss: 5.956696\n",
      "itr: 1080 ; loss: 6.295173\n",
      "itr: 1100 ; loss: 7.2143307\n",
      "itr: 1120 ; loss: 6.3886356\n",
      "itr: 1140 ; loss: 5.763263\n",
      "itr: 1160 ; loss: 6.1860313\n",
      "itr: 1180 ; loss: 6.246308\n",
      "itr: 1200 ; loss: 6.7151933\n",
      "itr: 1220 ; loss: 6.6335907\n",
      "itr: 1240 ; loss: 6.70843\n",
      "itr: 1260 ; loss: 6.2113156\n",
      "itr: 1280 ; loss: 6.266958\n",
      "itr: 1300 ; loss: 6.9469104\n",
      "itr: 1320 ; loss: 6.3498526\n",
      "itr: 1340 ; loss: 6.1686716\n",
      "itr: 1360 ; loss: 6.60669\n",
      "itr: 1380 ; loss: 6.8596025\n",
      "itr: 1400 ; loss: 5.696378\n",
      "itr: 1420 ; loss: 6.4796944\n",
      "itr: 1440 ; loss: 7.148833\n",
      "itr: 1460 ; loss: 5.8181224\n",
      "itr: 1480 ; loss: 6.337913\n",
      "itr: 1500 ; loss: 5.7236657\n",
      "itr: 1520 ; loss: 6.19248\n",
      "itr: 1540 ; loss: 5.8395944\n",
      "itr: 1560 ; loss: 5.475127\n",
      "itr: 1580 ; loss: 6.1490574\n",
      "itr: 1600 ; loss: 6.08996\n",
      "itr: 1620 ; loss: 5.946531\n",
      "itr: 1640 ; loss: 7.0440955\n",
      "itr: 1660 ; loss: 6.204993\n",
      "itr: 1680 ; loss: 6.1486673\n",
      "itr: 1700 ; loss: 6.0469575\n",
      "itr: 1720 ; loss: 6.138307\n",
      "itr: 1740 ; loss: 5.8172455\n",
      "itr: 1760 ; loss: 6.3561606\n",
      "itr: 1780 ; loss: 5.2291193\n",
      "itr: 1800 ; loss: 5.5352664\n",
      "itr: 1820 ; loss: 5.8640795\n",
      "itr: 1840 ; loss: 5.9492717\n",
      "itr: 1860 ; loss: 6.219704\n",
      "itr: 1880 ; loss: 5.7800922\n",
      "itr: 1900 ; loss: 5.7834663\n",
      "itr: 1920 ; loss: 5.7590246\n",
      "itr: 1940 ; loss: 6.0596423\n",
      "itr: 1960 ; loss: 5.8367114\n",
      "itr: 1980 ; loss: 6.4725113\n",
      "itr: 2000 ; loss: 4.9032316\n",
      "itr: 2020 ; loss: 5.6559577\n",
      "itr: 2040 ; loss: 5.82287\n",
      "itr: 2060 ; loss: 5.899776\n",
      "itr: 2080 ; loss: 5.6300263\n",
      "itr: 2100 ; loss: 5.534927\n",
      "itr: 2120 ; loss: 5.2650824\n",
      "itr: 2140 ; loss: 5.4628468\n",
      "itr: 2160 ; loss: 5.829281\n",
      "itr: 2180 ; loss: 5.6751385\n",
      "itr: 2200 ; loss: 5.1581283\n",
      "itr: 2220 ; loss: 5.661868\n",
      "itr: 2240 ; loss: 6.262863\n",
      "itr: 2260 ; loss: 5.4606338\n"
     ]
    },
    {
     "ename": "KeyboardInterrupt",
     "evalue": "",
     "output_type": "error",
     "traceback": [
      "\u001b[0;31m---------------------------------------------------------------------------\u001b[0m",
      "\u001b[0;31mKeyboardInterrupt\u001b[0m                         Traceback (most recent call last)",
      "\u001b[0;32m<ipython-input-54-554ea300463d>\u001b[0m in \u001b[0;36m<module>\u001b[0;34m\u001b[0m\n\u001b[0;32m----> 1\u001b[0;31m \u001b[0mmodel\u001b[0m\u001b[0;34m.\u001b[0m\u001b[0mtrain\u001b[0m\u001b[0;34m(\u001b[0m\u001b[0mdataset\u001b[0m\u001b[0;34m,\u001b[0m \u001b[0;36m5000\u001b[0m\u001b[0;34m)\u001b[0m\u001b[0;34m\u001b[0m\u001b[0m\n\u001b[0m",
      "\u001b[0;32m~/Invicuna/model.py\u001b[0m in \u001b[0;36mtrain\u001b[0;34m(self, dataset, num_train_updates)\u001b[0m\n\u001b[1;32m    382\u001b[0m                     \u001b[0mself\u001b[0m\u001b[0;34m.\u001b[0m\u001b[0mnum_context\u001b[0m\u001b[0;34m:\u001b[0m \u001b[0mnp\u001b[0m\u001b[0;34m.\u001b[0m\u001b[0mrandom\u001b[0m\u001b[0;34m.\u001b[0m\u001b[0mrandint\u001b[0m\u001b[0;34m(\u001b[0m\u001b[0mhorizon\u001b[0m\u001b[0;34m+\u001b[0m\u001b[0;36m1\u001b[0m\u001b[0;34m,\u001b[0m\u001b[0msize\u001b[0m\u001b[0;34m=\u001b[0m\u001b[0mbatch_size\u001b[0m\u001b[0;34m)\u001b[0m\u001b[0;34m\u001b[0m\u001b[0m\n\u001b[1;32m    383\u001b[0m                     }\n\u001b[0;32m--> 384\u001b[0;31m             \u001b[0mloss\u001b[0m\u001b[0;34m,\u001b[0m \u001b[0m_\u001b[0m\u001b[0;34m,\u001b[0m \u001b[0msummary\u001b[0m \u001b[0;34m=\u001b[0m \u001b[0mself\u001b[0m\u001b[0;34m.\u001b[0m\u001b[0msess\u001b[0m\u001b[0;34m.\u001b[0m\u001b[0mrun\u001b[0m\u001b[0;34m(\u001b[0m\u001b[0;34m[\u001b[0m\u001b[0mself\u001b[0m\u001b[0;34m.\u001b[0m\u001b[0mtotal_loss\u001b[0m\u001b[0;34m,\u001b[0m\u001b[0mself\u001b[0m\u001b[0;34m.\u001b[0m\u001b[0mtrain_op\u001b[0m\u001b[0;34m,\u001b[0m\u001b[0mself\u001b[0m\u001b[0;34m.\u001b[0m\u001b[0mmerged\u001b[0m\u001b[0;34m]\u001b[0m\u001b[0;34m,\u001b[0m\u001b[0mfeed_dict\u001b[0m\u001b[0;34m)\u001b[0m\u001b[0;34m\u001b[0m\u001b[0m\n\u001b[0m\u001b[1;32m    385\u001b[0m \u001b[0;34m\u001b[0m\u001b[0m\n\u001b[1;32m    386\u001b[0m             \u001b[0;32mif\u001b[0m \u001b[0mi\u001b[0m \u001b[0;34m%\u001b[0m \u001b[0;36m20\u001b[0m \u001b[0;34m==\u001b[0m \u001b[0;36m0\u001b[0m\u001b[0;34m:\u001b[0m\u001b[0;34m\u001b[0m\u001b[0m\n",
      "\u001b[0;32m~/Invicuna/venv/lib/python3.5/site-packages/tensorflow/python/client/session.py\u001b[0m in \u001b[0;36mrun\u001b[0;34m(self, fetches, feed_dict, options, run_metadata)\u001b[0m\n\u001b[1;32m    927\u001b[0m     \u001b[0;32mtry\u001b[0m\u001b[0;34m:\u001b[0m\u001b[0;34m\u001b[0m\u001b[0m\n\u001b[1;32m    928\u001b[0m       result = self._run(None, fetches, feed_dict, options_ptr,\n\u001b[0;32m--> 929\u001b[0;31m                          run_metadata_ptr)\n\u001b[0m\u001b[1;32m    930\u001b[0m       \u001b[0;32mif\u001b[0m \u001b[0mrun_metadata\u001b[0m\u001b[0;34m:\u001b[0m\u001b[0;34m\u001b[0m\u001b[0m\n\u001b[1;32m    931\u001b[0m         \u001b[0mproto_data\u001b[0m \u001b[0;34m=\u001b[0m \u001b[0mtf_session\u001b[0m\u001b[0;34m.\u001b[0m\u001b[0mTF_GetBuffer\u001b[0m\u001b[0;34m(\u001b[0m\u001b[0mrun_metadata_ptr\u001b[0m\u001b[0;34m)\u001b[0m\u001b[0;34m\u001b[0m\u001b[0m\n",
      "\u001b[0;32m~/Invicuna/venv/lib/python3.5/site-packages/tensorflow/python/client/session.py\u001b[0m in \u001b[0;36m_run\u001b[0;34m(self, handle, fetches, feed_dict, options, run_metadata)\u001b[0m\n\u001b[1;32m   1150\u001b[0m     \u001b[0;32mif\u001b[0m \u001b[0mfinal_fetches\u001b[0m \u001b[0;32mor\u001b[0m \u001b[0mfinal_targets\u001b[0m \u001b[0;32mor\u001b[0m \u001b[0;34m(\u001b[0m\u001b[0mhandle\u001b[0m \u001b[0;32mand\u001b[0m \u001b[0mfeed_dict_tensor\u001b[0m\u001b[0;34m)\u001b[0m\u001b[0;34m:\u001b[0m\u001b[0;34m\u001b[0m\u001b[0m\n\u001b[1;32m   1151\u001b[0m       results = self._do_run(handle, final_targets, final_fetches,\n\u001b[0;32m-> 1152\u001b[0;31m                              feed_dict_tensor, options, run_metadata)\n\u001b[0m\u001b[1;32m   1153\u001b[0m     \u001b[0;32melse\u001b[0m\u001b[0;34m:\u001b[0m\u001b[0;34m\u001b[0m\u001b[0m\n\u001b[1;32m   1154\u001b[0m       \u001b[0mresults\u001b[0m \u001b[0;34m=\u001b[0m \u001b[0;34m[\u001b[0m\u001b[0;34m]\u001b[0m\u001b[0;34m\u001b[0m\u001b[0m\n",
      "\u001b[0;32m~/Invicuna/venv/lib/python3.5/site-packages/tensorflow/python/client/session.py\u001b[0m in \u001b[0;36m_do_run\u001b[0;34m(self, handle, target_list, fetch_list, feed_dict, options, run_metadata)\u001b[0m\n\u001b[1;32m   1326\u001b[0m     \u001b[0;32mif\u001b[0m \u001b[0mhandle\u001b[0m \u001b[0;32mis\u001b[0m \u001b[0;32mNone\u001b[0m\u001b[0;34m:\u001b[0m\u001b[0;34m\u001b[0m\u001b[0m\n\u001b[1;32m   1327\u001b[0m       return self._do_call(_run_fn, feeds, fetches, targets, options,\n\u001b[0;32m-> 1328\u001b[0;31m                            run_metadata)\n\u001b[0m\u001b[1;32m   1329\u001b[0m     \u001b[0;32melse\u001b[0m\u001b[0;34m:\u001b[0m\u001b[0;34m\u001b[0m\u001b[0m\n\u001b[1;32m   1330\u001b[0m       \u001b[0;32mreturn\u001b[0m \u001b[0mself\u001b[0m\u001b[0;34m.\u001b[0m\u001b[0m_do_call\u001b[0m\u001b[0;34m(\u001b[0m\u001b[0m_prun_fn\u001b[0m\u001b[0;34m,\u001b[0m \u001b[0mhandle\u001b[0m\u001b[0;34m,\u001b[0m \u001b[0mfeeds\u001b[0m\u001b[0;34m,\u001b[0m \u001b[0mfetches\u001b[0m\u001b[0;34m)\u001b[0m\u001b[0;34m\u001b[0m\u001b[0m\n",
      "\u001b[0;32m~/Invicuna/venv/lib/python3.5/site-packages/tensorflow/python/client/session.py\u001b[0m in \u001b[0;36m_do_call\u001b[0;34m(self, fn, *args)\u001b[0m\n\u001b[1;32m   1332\u001b[0m   \u001b[0;32mdef\u001b[0m \u001b[0m_do_call\u001b[0m\u001b[0;34m(\u001b[0m\u001b[0mself\u001b[0m\u001b[0;34m,\u001b[0m \u001b[0mfn\u001b[0m\u001b[0;34m,\u001b[0m \u001b[0;34m*\u001b[0m\u001b[0margs\u001b[0m\u001b[0;34m)\u001b[0m\u001b[0;34m:\u001b[0m\u001b[0;34m\u001b[0m\u001b[0m\n\u001b[1;32m   1333\u001b[0m     \u001b[0;32mtry\u001b[0m\u001b[0;34m:\u001b[0m\u001b[0;34m\u001b[0m\u001b[0m\n\u001b[0;32m-> 1334\u001b[0;31m       \u001b[0;32mreturn\u001b[0m \u001b[0mfn\u001b[0m\u001b[0;34m(\u001b[0m\u001b[0;34m*\u001b[0m\u001b[0margs\u001b[0m\u001b[0;34m)\u001b[0m\u001b[0;34m\u001b[0m\u001b[0m\n\u001b[0m\u001b[1;32m   1335\u001b[0m     \u001b[0;32mexcept\u001b[0m \u001b[0merrors\u001b[0m\u001b[0;34m.\u001b[0m\u001b[0mOpError\u001b[0m \u001b[0;32mas\u001b[0m \u001b[0me\u001b[0m\u001b[0;34m:\u001b[0m\u001b[0;34m\u001b[0m\u001b[0m\n\u001b[1;32m   1336\u001b[0m       \u001b[0mmessage\u001b[0m \u001b[0;34m=\u001b[0m \u001b[0mcompat\u001b[0m\u001b[0;34m.\u001b[0m\u001b[0mas_text\u001b[0m\u001b[0;34m(\u001b[0m\u001b[0me\u001b[0m\u001b[0;34m.\u001b[0m\u001b[0mmessage\u001b[0m\u001b[0;34m)\u001b[0m\u001b[0;34m\u001b[0m\u001b[0m\n",
      "\u001b[0;32m~/Invicuna/venv/lib/python3.5/site-packages/tensorflow/python/client/session.py\u001b[0m in \u001b[0;36m_run_fn\u001b[0;34m(feed_dict, fetch_list, target_list, options, run_metadata)\u001b[0m\n\u001b[1;32m   1317\u001b[0m       \u001b[0mself\u001b[0m\u001b[0;34m.\u001b[0m\u001b[0m_extend_graph\u001b[0m\u001b[0;34m(\u001b[0m\u001b[0;34m)\u001b[0m\u001b[0;34m\u001b[0m\u001b[0m\n\u001b[1;32m   1318\u001b[0m       return self._call_tf_sessionrun(\n\u001b[0;32m-> 1319\u001b[0;31m           options, feed_dict, fetch_list, target_list, run_metadata)\n\u001b[0m\u001b[1;32m   1320\u001b[0m \u001b[0;34m\u001b[0m\u001b[0m\n\u001b[1;32m   1321\u001b[0m     \u001b[0;32mdef\u001b[0m \u001b[0m_prun_fn\u001b[0m\u001b[0;34m(\u001b[0m\u001b[0mhandle\u001b[0m\u001b[0;34m,\u001b[0m \u001b[0mfeed_dict\u001b[0m\u001b[0;34m,\u001b[0m \u001b[0mfetch_list\u001b[0m\u001b[0;34m)\u001b[0m\u001b[0;34m:\u001b[0m\u001b[0;34m\u001b[0m\u001b[0m\n",
      "\u001b[0;32m~/Invicuna/venv/lib/python3.5/site-packages/tensorflow/python/client/session.py\u001b[0m in \u001b[0;36m_call_tf_sessionrun\u001b[0;34m(self, options, feed_dict, fetch_list, target_list, run_metadata)\u001b[0m\n\u001b[1;32m   1405\u001b[0m     return tf_session.TF_SessionRun_wrapper(\n\u001b[1;32m   1406\u001b[0m         \u001b[0mself\u001b[0m\u001b[0;34m.\u001b[0m\u001b[0m_session\u001b[0m\u001b[0;34m,\u001b[0m \u001b[0moptions\u001b[0m\u001b[0;34m,\u001b[0m \u001b[0mfeed_dict\u001b[0m\u001b[0;34m,\u001b[0m \u001b[0mfetch_list\u001b[0m\u001b[0;34m,\u001b[0m \u001b[0mtarget_list\u001b[0m\u001b[0;34m,\u001b[0m\u001b[0;34m\u001b[0m\u001b[0m\n\u001b[0;32m-> 1407\u001b[0;31m         run_metadata)\n\u001b[0m\u001b[1;32m   1408\u001b[0m \u001b[0;34m\u001b[0m\u001b[0m\n\u001b[1;32m   1409\u001b[0m   \u001b[0;32mdef\u001b[0m \u001b[0m_call_tf_sessionprun\u001b[0m\u001b[0;34m(\u001b[0m\u001b[0mself\u001b[0m\u001b[0;34m,\u001b[0m \u001b[0mhandle\u001b[0m\u001b[0;34m,\u001b[0m \u001b[0mfeed_dict\u001b[0m\u001b[0;34m,\u001b[0m \u001b[0mfetch_list\u001b[0m\u001b[0;34m)\u001b[0m\u001b[0;34m:\u001b[0m\u001b[0;34m\u001b[0m\u001b[0m\n",
      "\u001b[0;31mKeyboardInterrupt\u001b[0m: "
     ]
    }
   ],
   "source": [
    "model.train(dataset, 5000)"
   ]
  },
  {
   "cell_type": "markdown",
   "metadata": {},
   "source": [
    "Evaluate test likelihood of prior"
   ]
  },
  {
   "cell_type": "code",
   "execution_count": 60,
   "metadata": {},
   "outputs": [
    {
     "data": {
      "text/plain": [
       "-6.125162"
      ]
     },
     "execution_count": 60,
     "metadata": {},
     "output_type": "execute_result"
    }
   ],
   "source": [
    "np.mean(np.log(model.get_likelihood(X_test[:50,0:0,:],Y_test[:50,0:0,:],X_test[:50,:,:],Y_test[:50,:,:])))"
   ]
  },
  {
   "cell_type": "code",
   "execution_count": null,
   "metadata": {},
   "outputs": [],
   "source": []
  }
 ],
 "metadata": {
  "kernelspec": {
   "display_name": "Python 3",
   "language": "python",
   "name": "python3"
  },
  "language_info": {
   "codemirror_mode": {
    "name": "ipython",
    "version": 3
   },
   "file_extension": ".py",
   "mimetype": "text/x-python",
   "name": "python",
   "nbconvert_exporter": "python",
   "pygments_lexer": "ipython3",
   "version": "3.5.2"
  }
 },
 "nbformat": 4,
 "nbformat_minor": 2
}
